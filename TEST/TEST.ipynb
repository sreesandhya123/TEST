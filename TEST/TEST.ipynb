{
 "metadata": {
  "kernelspec": {
   "display_name": "Streamlit Notebook",
   "name": "streamlit"
  },
  "lastEditStatus": {
   "notebookId": "vaujbmndvvhvbgx2xpki",
   "authorId": "5526856913731",
   "authorName": "SATHISH",
   "authorEmail": "vaqygyry@logsmarter.net",
   "sessionId": "365f9b64-9235-47d6-8ed9-aafd4dc47a2a",
   "lastEditTime": 1745400965869
  }
 },
 "nbformat_minor": 5,
 "nbformat": 4,
 "cells": [
  {
   "cell_type": "code",
   "id": "3775908f-ca36-4846-8f38-5adca39217f2",
   "metadata": {
    "language": "python",
    "name": "cell1"
   },
   "source": "# Import python packages\nimport streamlit as st\nimport pandas as pd\nimport sys\n\n# We can also use Snowpark for our analyses!\nfrom snowflake.snowpark.context import get_active_session\nsession = get_active_session()\n\n\na = sys.argv\nprint(a)",
   "execution_count": null,
   "outputs": []
  }
 ]
}