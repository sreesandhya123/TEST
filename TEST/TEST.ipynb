{
 "metadata": {
  "kernelspec": {
   "display_name": "Streamlit Notebook",
   "name": "streamlit"
  },
  "lastEditStatus": {
   "notebookId": "rykpna55klwzqfye7q4f",
   "authorId": "5526856913731",
   "authorName": "SATHISH",
   "authorEmail": "vaqygyry@logsmarter.net",
   "sessionId": "40927550-689b-4beb-989b-134c54809968",
   "lastEditTime": 1745485909880
  }
 },
 "nbformat_minor": 5,
 "nbformat": 4,
 "cells": [
  {
   "cell_type": "code",
   "id": "3775908f-ca36-4846-8f38-5adca39217f2",
   "metadata": {
    "language": "python",
    "name": "cell1"
   },
   "source": "# Import python packages\nimport streamlit as st\nimport pandas as pd\nimport sys\n\n# We can also use Snowpark for our analyses!\nfrom snowflake.snowpark.context import get_active_session\nsession = get_active_session()\n\n# svadandad\na = sys.argv\nprint(a)",
   "execution_count": null,
   "outputs": []
  }
 ]
}